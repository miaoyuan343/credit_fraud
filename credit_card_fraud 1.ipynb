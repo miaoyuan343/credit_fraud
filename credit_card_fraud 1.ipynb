{
 "cells": [
  {
   "cell_type": "code",
   "execution_count": 2,
   "metadata": {},
   "outputs": [],
   "source": [
    "import torch \n",
    "import pandas as pd\n",
    "import numpy as np\n",
    "import matplotlib.pyplot as plt\n",
    "\n",
    "\n",
    "import collections\n",
    "import os,sys\n",
    "\n",
    "\n",
    "import torch.utils as utils\n",
    "import torch.optim as optim\n",
    "import torch.nn as nn\n",
    "\n",
    "\n",
    "from sklearn.model_selection import train_test_split\n",
    "from sklearn.metrics import accuracy_score\n",
    "\n",
    "from sklearn.metrics import confusion_matrix\n",
    "\n"
   ]
  },
  {
   "cell_type": "markdown",
   "metadata": {},
   "source": [
    "\n",
    "### Data Loader"
   ]
  },
  {
   "cell_type": "code",
   "execution_count": 3,
   "metadata": {
    "scrolled": true
   },
   "outputs": [
    {
     "data": {
      "text/html": [
       "<div>\n",
       "<style scoped>\n",
       "    .dataframe tbody tr th:only-of-type {\n",
       "        vertical-align: middle;\n",
       "    }\n",
       "\n",
       "    .dataframe tbody tr th {\n",
       "        vertical-align: top;\n",
       "    }\n",
       "\n",
       "    .dataframe thead th {\n",
       "        text-align: right;\n",
       "    }\n",
       "</style>\n",
       "<table border=\"1\" class=\"dataframe\">\n",
       "  <thead>\n",
       "    <tr style=\"text-align: right;\">\n",
       "      <th></th>\n",
       "      <th>Time</th>\n",
       "      <th>V1</th>\n",
       "      <th>V2</th>\n",
       "      <th>V3</th>\n",
       "      <th>V4</th>\n",
       "      <th>V5</th>\n",
       "      <th>V6</th>\n",
       "      <th>V7</th>\n",
       "      <th>V8</th>\n",
       "      <th>V9</th>\n",
       "      <th>...</th>\n",
       "      <th>V20</th>\n",
       "      <th>V21</th>\n",
       "      <th>V22</th>\n",
       "      <th>V23</th>\n",
       "      <th>V24</th>\n",
       "      <th>V25</th>\n",
       "      <th>V26</th>\n",
       "      <th>V27</th>\n",
       "      <th>V28</th>\n",
       "      <th>Amount</th>\n",
       "    </tr>\n",
       "  </thead>\n",
       "  <tbody>\n",
       "    <tr>\n",
       "      <th>187149</th>\n",
       "      <td>127409.0</td>\n",
       "      <td>2.187964</td>\n",
       "      <td>-1.370372</td>\n",
       "      <td>-1.864928</td>\n",
       "      <td>-2.672086</td>\n",
       "      <td>-0.509079</td>\n",
       "      <td>-0.366244</td>\n",
       "      <td>-0.582434</td>\n",
       "      <td>-0.066411</td>\n",
       "      <td>1.441711</td>\n",
       "      <td>...</td>\n",
       "      <td>-0.652992</td>\n",
       "      <td>-0.241110</td>\n",
       "      <td>0.224188</td>\n",
       "      <td>-0.062167</td>\n",
       "      <td>0.239444</td>\n",
       "      <td>0.517558</td>\n",
       "      <td>-0.567574</td>\n",
       "      <td>0.055018</td>\n",
       "      <td>-0.067086</td>\n",
       "      <td>15.59</td>\n",
       "    </tr>\n",
       "    <tr>\n",
       "      <th>95337</th>\n",
       "      <td>65261.0</td>\n",
       "      <td>1.266063</td>\n",
       "      <td>-0.321886</td>\n",
       "      <td>-0.613943</td>\n",
       "      <td>-1.503460</td>\n",
       "      <td>0.087634</td>\n",
       "      <td>-0.528524</td>\n",
       "      <td>0.264502</td>\n",
       "      <td>-0.256147</td>\n",
       "      <td>1.135663</td>\n",
       "      <td>...</td>\n",
       "      <td>0.061637</td>\n",
       "      <td>-0.028175</td>\n",
       "      <td>0.164298</td>\n",
       "      <td>-0.296747</td>\n",
       "      <td>-0.654741</td>\n",
       "      <td>0.882647</td>\n",
       "      <td>0.168259</td>\n",
       "      <td>0.001271</td>\n",
       "      <td>0.000599</td>\n",
       "      <td>51.00</td>\n",
       "    </tr>\n",
       "    <tr>\n",
       "      <th>35692</th>\n",
       "      <td>38224.0</td>\n",
       "      <td>-1.353619</td>\n",
       "      <td>-1.202668</td>\n",
       "      <td>1.713576</td>\n",
       "      <td>0.093124</td>\n",
       "      <td>-2.273097</td>\n",
       "      <td>0.502389</td>\n",
       "      <td>1.560159</td>\n",
       "      <td>0.008188</td>\n",
       "      <td>0.234176</td>\n",
       "      <td>...</td>\n",
       "      <td>1.241343</td>\n",
       "      <td>0.261270</td>\n",
       "      <td>-0.067896</td>\n",
       "      <td>1.143998</td>\n",
       "      <td>0.413205</td>\n",
       "      <td>-0.244483</td>\n",
       "      <td>1.403725</td>\n",
       "      <td>-0.153808</td>\n",
       "      <td>0.138793</td>\n",
       "      <td>527.72</td>\n",
       "    </tr>\n",
       "    <tr>\n",
       "      <th>140432</th>\n",
       "      <td>83717.0</td>\n",
       "      <td>-0.883135</td>\n",
       "      <td>0.814777</td>\n",
       "      <td>1.813012</td>\n",
       "      <td>-0.142903</td>\n",
       "      <td>-0.366119</td>\n",
       "      <td>0.647925</td>\n",
       "      <td>0.123649</td>\n",
       "      <td>0.308118</td>\n",
       "      <td>0.291747</td>\n",
       "      <td>...</td>\n",
       "      <td>-0.379059</td>\n",
       "      <td>0.273216</td>\n",
       "      <td>0.530944</td>\n",
       "      <td>-0.134144</td>\n",
       "      <td>-0.360406</td>\n",
       "      <td>-0.244728</td>\n",
       "      <td>-0.572042</td>\n",
       "      <td>-0.445721</td>\n",
       "      <td>-0.003260</td>\n",
       "      <td>47.97</td>\n",
       "    </tr>\n",
       "    <tr>\n",
       "      <th>76959</th>\n",
       "      <td>56815.0</td>\n",
       "      <td>-3.366044</td>\n",
       "      <td>-1.664284</td>\n",
       "      <td>1.410575</td>\n",
       "      <td>0.352969</td>\n",
       "      <td>4.006003</td>\n",
       "      <td>-3.154920</td>\n",
       "      <td>-0.326832</td>\n",
       "      <td>-0.691135</td>\n",
       "      <td>0.036648</td>\n",
       "      <td>...</td>\n",
       "      <td>-0.696302</td>\n",
       "      <td>-0.316395</td>\n",
       "      <td>-0.162570</td>\n",
       "      <td>-1.035747</td>\n",
       "      <td>0.357930</td>\n",
       "      <td>0.735078</td>\n",
       "      <td>-0.625134</td>\n",
       "      <td>-0.267771</td>\n",
       "      <td>-0.122046</td>\n",
       "      <td>1.00</td>\n",
       "    </tr>\n",
       "  </tbody>\n",
       "</table>\n",
       "<p>5 rows × 30 columns</p>\n",
       "</div>"
      ],
      "text/plain": [
       "            Time        V1        V2        V3        V4        V5        V6  \\\n",
       "187149  127409.0  2.187964 -1.370372 -1.864928 -2.672086 -0.509079 -0.366244   \n",
       "95337    65261.0  1.266063 -0.321886 -0.613943 -1.503460  0.087634 -0.528524   \n",
       "35692    38224.0 -1.353619 -1.202668  1.713576  0.093124 -2.273097  0.502389   \n",
       "140432   83717.0 -0.883135  0.814777  1.813012 -0.142903 -0.366119  0.647925   \n",
       "76959    56815.0 -3.366044 -1.664284  1.410575  0.352969  4.006003 -3.154920   \n",
       "\n",
       "              V7        V8        V9  ...       V20       V21       V22  \\\n",
       "187149 -0.582434 -0.066411  1.441711  ... -0.652992 -0.241110  0.224188   \n",
       "95337   0.264502 -0.256147  1.135663  ...  0.061637 -0.028175  0.164298   \n",
       "35692   1.560159  0.008188  0.234176  ...  1.241343  0.261270 -0.067896   \n",
       "140432  0.123649  0.308118  0.291747  ... -0.379059  0.273216  0.530944   \n",
       "76959  -0.326832 -0.691135  0.036648  ... -0.696302 -0.316395 -0.162570   \n",
       "\n",
       "             V23       V24       V25       V26       V27       V28  Amount  \n",
       "187149 -0.062167  0.239444  0.517558 -0.567574  0.055018 -0.067086   15.59  \n",
       "95337  -0.296747 -0.654741  0.882647  0.168259  0.001271  0.000599   51.00  \n",
       "35692   1.143998  0.413205 -0.244483  1.403725 -0.153808  0.138793  527.72  \n",
       "140432 -0.134144 -0.360406 -0.244728 -0.572042 -0.445721 -0.003260   47.97  \n",
       "76959  -1.035747  0.357930  0.735078 -0.625134 -0.267771 -0.122046    1.00  \n",
       "\n",
       "[5 rows x 30 columns]"
      ]
     },
     "execution_count": 3,
     "metadata": {},
     "output_type": "execute_result"
    }
   ],
   "source": [
    "fraud_data = pd.read_csv('creditcard.csv')\n",
    "#split train set and test set\n",
    "y= fraud_data[\"Class\"]\n",
    "X = fraud_data.loc[:, fraud_data.columns != 'Class']\n",
    "X_train,X_test,y_train,y_test = train_test_split(X,y, test_size=1/6, random_state=42)\n",
    "X_train.head()\n"
   ]
  },
  {
   "cell_type": "markdown",
   "metadata": {},
   "source": [
    "### Data Merge"
   ]
  },
  {
   "cell_type": "code",
   "execution_count": 4,
   "metadata": {},
   "outputs": [],
   "source": [
    "#trainset = train_transation.merge(train_identity, how='left', left_index=True,right_index=True)\n",
    "#testset = test_transation.merge(test_identity, how='left', left_index=True,right_index=True)"
   ]
  },
  {
   "cell_type": "code",
   "execution_count": 5,
   "metadata": {
    "scrolled": true
   },
   "outputs": [],
   "source": [
    "#mapping =  [{idx: i} for idx, i in enumerate(trainset)]\n",
    "#print(mapping)"
   ]
  },
  {
   "cell_type": "code",
   "execution_count": 6,
   "metadata": {},
   "outputs": [],
   "source": [
    "#mapping =  [{idx: i} for idx, i in enumerate(testset)]\n",
    "#print(mapping)"
   ]
  },
  {
   "cell_type": "code",
   "execution_count": 7,
   "metadata": {},
   "outputs": [],
   "source": [
    "#testset"
   ]
  },
  {
   "cell_type": "code",
   "execution_count": 8,
   "metadata": {
    "scrolled": true
   },
   "outputs": [],
   "source": [
    "#test_label = testset['isFraud']\n",
    "#testset = testset.drop(columns=['isFraud'],axis=1)"
   ]
  },
  {
   "cell_type": "code",
   "execution_count": 9,
   "metadata": {},
   "outputs": [],
   "source": [
    "#category_list = list(range(3,12)) + [14,15] + list(range(45,54)) + list(range(404,433))\n",
    "#category_list = list(range(3,12)) + [14,15] + list(range(45,54))\n",
    "#data = DataInit(trainset, testset,cat_list = category_list ,dropping_list=[1])"
   ]
  },
  {
   "cell_type": "code",
   "execution_count": 10,
   "metadata": {},
   "outputs": [],
   "source": [
    "#data.target_x"
   ]
  },
  {
   "cell_type": "markdown",
   "metadata": {},
   "source": [
    "### Data Conversion"
   ]
  },
  {
   "cell_type": "code",
   "execution_count": 11,
   "metadata": {},
   "outputs": [],
   "source": [
    "#print(data.train_x.shape)\n",
    "#print(data.train_y.shape)"
   ]
  },
  {
   "cell_type": "code",
   "execution_count": 12,
   "metadata": {},
   "outputs": [],
   "source": [
    "from sklearn.model_selection import train_test_split\n",
    "\n",
    "#def data_processing(x, y, train_size = 0.7):\n",
    "    # train/development split\n",
    "    #train_x, validation_x, train_y, validation_y = train_test_split(x,y, train_size= train_size)\n",
    "    \n",
    "    # pandas2numpy2pytorch\n",
    "    #train_x = torch.tensor(train_x.values).float()\n",
    "    #train_y = torch.tensor(train_y.values.reshape(-1,1)).float()\n",
    "    \n",
    "    #valid_x = torch.tensor(validation_x.values).float()\n",
    "    #valid_y = torch.tensor(validation_y.values.reshape(-1,1)).float()\n",
    "\n",
    "    #train = torch.utils.data.TensorDataset(train_x,train_y)\n",
    "    #valid = (valid_x,valid_y)\n",
    "    \n",
    "    #return train, valid\n",
    "\n",
    "\n",
    "X_train = torch.tensor(X_train.values).float()\n",
    "y_train = torch.tensor(y_train.values).float()\n",
    "X_test = torch.tensor(X_test.values).float()\n",
    "y_test = torch.tensor(y_test.values).float()\n",
    "train = torch.utils.data.TensorDataset(X_train,y_train)\n",
    "valid = (X_test,y_test)\n",
    "\n",
    "dataset = (train,valid)"
   ]
  },
  {
   "cell_type": "markdown",
   "metadata": {},
   "source": [
    "## Feature Engineering\n",
    "\n",
    "Sort the features by their importance and select the top-k features as our DL model input "
   ]
  },
  {
   "cell_type": "code",
   "execution_count": 13,
   "metadata": {},
   "outputs": [],
   "source": [
    "from sklearn.ensemble import RandomForestRegressor "
   ]
  },
  {
   "cell_type": "code",
   "execution_count": 14,
   "metadata": {},
   "outputs": [
    {
     "data": {
      "text/html": [
       "<style>#sk-container-id-1 {color: black;}#sk-container-id-1 pre{padding: 0;}#sk-container-id-1 div.sk-toggleable {background-color: white;}#sk-container-id-1 label.sk-toggleable__label {cursor: pointer;display: block;width: 100%;margin-bottom: 0;padding: 0.3em;box-sizing: border-box;text-align: center;}#sk-container-id-1 label.sk-toggleable__label-arrow:before {content: \"▸\";float: left;margin-right: 0.25em;color: #696969;}#sk-container-id-1 label.sk-toggleable__label-arrow:hover:before {color: black;}#sk-container-id-1 div.sk-estimator:hover label.sk-toggleable__label-arrow:before {color: black;}#sk-container-id-1 div.sk-toggleable__content {max-height: 0;max-width: 0;overflow: hidden;text-align: left;background-color: #f0f8ff;}#sk-container-id-1 div.sk-toggleable__content pre {margin: 0.2em;color: black;border-radius: 0.25em;background-color: #f0f8ff;}#sk-container-id-1 input.sk-toggleable__control:checked~div.sk-toggleable__content {max-height: 200px;max-width: 100%;overflow: auto;}#sk-container-id-1 input.sk-toggleable__control:checked~label.sk-toggleable__label-arrow:before {content: \"▾\";}#sk-container-id-1 div.sk-estimator input.sk-toggleable__control:checked~label.sk-toggleable__label {background-color: #d4ebff;}#sk-container-id-1 div.sk-label input.sk-toggleable__control:checked~label.sk-toggleable__label {background-color: #d4ebff;}#sk-container-id-1 input.sk-hidden--visually {border: 0;clip: rect(1px 1px 1px 1px);clip: rect(1px, 1px, 1px, 1px);height: 1px;margin: -1px;overflow: hidden;padding: 0;position: absolute;width: 1px;}#sk-container-id-1 div.sk-estimator {font-family: monospace;background-color: #f0f8ff;border: 1px dotted black;border-radius: 0.25em;box-sizing: border-box;margin-bottom: 0.5em;}#sk-container-id-1 div.sk-estimator:hover {background-color: #d4ebff;}#sk-container-id-1 div.sk-parallel-item::after {content: \"\";width: 100%;border-bottom: 1px solid gray;flex-grow: 1;}#sk-container-id-1 div.sk-label:hover label.sk-toggleable__label {background-color: #d4ebff;}#sk-container-id-1 div.sk-serial::before {content: \"\";position: absolute;border-left: 1px solid gray;box-sizing: border-box;top: 0;bottom: 0;left: 50%;z-index: 0;}#sk-container-id-1 div.sk-serial {display: flex;flex-direction: column;align-items: center;background-color: white;padding-right: 0.2em;padding-left: 0.2em;position: relative;}#sk-container-id-1 div.sk-item {position: relative;z-index: 1;}#sk-container-id-1 div.sk-parallel {display: flex;align-items: stretch;justify-content: center;background-color: white;position: relative;}#sk-container-id-1 div.sk-item::before, #sk-container-id-1 div.sk-parallel-item::before {content: \"\";position: absolute;border-left: 1px solid gray;box-sizing: border-box;top: 0;bottom: 0;left: 50%;z-index: -1;}#sk-container-id-1 div.sk-parallel-item {display: flex;flex-direction: column;z-index: 1;position: relative;background-color: white;}#sk-container-id-1 div.sk-parallel-item:first-child::after {align-self: flex-end;width: 50%;}#sk-container-id-1 div.sk-parallel-item:last-child::after {align-self: flex-start;width: 50%;}#sk-container-id-1 div.sk-parallel-item:only-child::after {width: 0;}#sk-container-id-1 div.sk-dashed-wrapped {border: 1px dashed gray;margin: 0 0.4em 0.5em 0.4em;box-sizing: border-box;padding-bottom: 0.4em;background-color: white;}#sk-container-id-1 div.sk-label label {font-family: monospace;font-weight: bold;display: inline-block;line-height: 1.2em;}#sk-container-id-1 div.sk-label-container {text-align: center;}#sk-container-id-1 div.sk-container {/* jupyter's `normalize.less` sets `[hidden] { display: none; }` but bootstrap.min.css set `[hidden] { display: none !important; }` so we also need the `!important` here to be able to override the default hidden behavior on the sphinx rendered scikit-learn.org. See: https://github.com/scikit-learn/scikit-learn/issues/21755 */display: inline-block !important;position: relative;}#sk-container-id-1 div.sk-text-repr-fallback {display: none;}</style><div id=\"sk-container-id-1\" class=\"sk-top-container\"><div class=\"sk-text-repr-fallback\"><pre>RandomForestRegressor(max_depth=10, max_features=30, max_samples=1000)</pre><b>In a Jupyter environment, please rerun this cell to show the HTML representation or trust the notebook. <br />On GitHub, the HTML representation is unable to render, please try loading this page with nbviewer.org.</b></div><div class=\"sk-container\" hidden><div class=\"sk-item\"><div class=\"sk-estimator sk-toggleable\"><input class=\"sk-toggleable__control sk-hidden--visually\" id=\"sk-estimator-id-1\" type=\"checkbox\" checked><label for=\"sk-estimator-id-1\" class=\"sk-toggleable__label sk-toggleable__label-arrow\">RandomForestRegressor</label><div class=\"sk-toggleable__content\"><pre>RandomForestRegressor(max_depth=10, max_features=30, max_samples=1000)</pre></div></div></div></div></div>"
      ],
      "text/plain": [
       "RandomForestRegressor(max_depth=10, max_features=30, max_samples=1000)"
      ]
     },
     "execution_count": 14,
     "metadata": {},
     "output_type": "execute_result"
    }
   ],
   "source": [
    "rf_regressor = RandomForestRegressor(max_samples=1000, max_features=30, max_depth=10)\n",
    "rf_regressor.fit(X, y)\n"
   ]
  },
  {
   "cell_type": "code",
   "execution_count": 15,
   "metadata": {},
   "outputs": [
    {
     "name": "stdout",
     "output_type": "stream",
     "text": [
      "Index(['Time', 'V1', 'V2', 'V3', 'V4', 'V5', 'V6', 'V7', 'V8', 'V9', 'V10',\n",
      "       'V11', 'V12', 'V13', 'V14', 'V15', 'V16', 'V17', 'V18', 'V19', 'V20',\n",
      "       'V21', 'V22', 'V23', 'V24', 'V25', 'V26', 'V27', 'V28', 'Amount'],\n",
      "      dtype='object') [0.01489497 0.00856414 0.01282051 0.01282051 0.0378963  0.0074765\n",
      " 0.         0.02028844 0.01495512 0.04838478 0.082248   0.11439992\n",
      " 0.1045404  0.0048109  0.10270429 0.01121154 0.0500877  0.23545427\n",
      " 0.03846154 0.00856396 0.01166668 0.01602563 0.00806362 0.00689578\n",
      " 0.00481733 0.00106729 0.         0.01043514 0.0049879  0.00545683]\n"
     ]
    }
   ],
   "source": [
    "[1,2,3,4]\n",
    "features = X.columns[:30]\n",
    "importances = rf_regressor.feature_importances_[:30]\n",
    "print(features,importances)"
   ]
  },
  {
   "cell_type": "markdown",
   "metadata": {},
   "source": [
    "### Visualization"
   ]
  },
  {
   "cell_type": "code",
   "execution_count": 16,
   "metadata": {},
   "outputs": [
    {
     "data": {
      "image/png": "[encoded data removed]",
      "text/plain": [
       "<Figure size 640x480 with 1 Axes>"
      ]
     },
     "metadata": {},
     "output_type": "display_data"
    }
   ],
   "source": [
    "plt.title('Feature inportance')\n",
    "plt.scatter(features,importances)\n",
    "plt.ylabel('Importance')\n",
    "plt.tick_params(axis='x', rotation=70)\n",
    "plt.show()"
   ]
  },
  {
   "cell_type": "markdown",
   "metadata": {
    "jp-MarkdownHeadingCollapsed": true
   },
   "source": [
    "### Baseline implementation"
   ]
  },
  {
   "cell_type": "markdown",
   "metadata": {},
   "source": [
    "### Bayesian NN"
   ]
  },
  {
   "cell_type": "code",
   "execution_count": 17,
   "metadata": {},
   "outputs": [
    {
     "name": "stdout",
     "output_type": "stream",
     "text": [
      "Requirement already satisfied: blitz in /Users/YM/anaconda3/lib/python3.11/site-packages (0.3.3)\n"
     ]
    }
   ],
   "source": [
    "!pip install blitz"
   ]
  },
  {
   "cell_type": "code",
   "execution_count": 18,
   "metadata": {},
   "outputs": [
    {
     "name": "stdout",
     "output_type": "stream",
     "text": [
      "Collecting git+https://github.com/peustr/bayesian-torch.git@main\n",
      "  Cloning https://github.com/peustr/bayesian-torch.git (to revision main) to /private/var/folders/j8/v25xgh1j6djfh4mr2vyf734h0000gq/T/pip-req-build-5ll3l13g\n",
      "  Running command git clone --filter=blob:none --quiet https://github.com/peustr/bayesian-torch.git /private/var/folders/j8/v25xgh1j6djfh4mr2vyf734h0000gq/T/pip-req-build-5ll3l13g\n",
      "  Resolved https://github.com/peustr/bayesian-torch.git to commit d030107fd5854f0b0a82a1ea67ff4986f7e564e0\n",
      "  Preparing metadata (setup.py) ... \u001b[?25ldone\n",
      "\u001b[?25hNote: you may need to restart the kernel to use updated packages.\n"
     ]
    }
   ],
   "source": [
    "pip install git+https://github.com/peustr/bayesian-torch.git@main\n"
   ]
  },
  {
   "cell_type": "code",
   "execution_count": 9,
   "metadata": {},
   "outputs": [],
   "source": [
    "\n",
    "import btorch.bnn as bnn"
   ]
  },
  {
   "cell_type": "code",
   "execution_count": 37,
   "metadata": {},
   "outputs": [],
   "source": [
    "class Bayesian_nn(nn.Module):\n",
    "    def __init__(self):\n",
    "        super(Bayesian_nn,self).__init__()\n",
    "        self.block1 = nn.Sequential(\n",
    "            bnn.Conv2d(1,8,8,1),\n",
    "            nn.MaxPool1d(kernel_size= 4),\n",
    "            nn.BatchNorm1d(8),\n",
    "            nn.ReLU()\n",
    "        )\n",
    "        self.fc = nn.Linear()\n",
    "        \n",
    "        \n",
    "    def forward(self, x):\n",
    "        #x = x.view(x.shape[0],-1)\n",
    "        \n",
    "        output_bock1 = self.block1(x)\n",
    "        output_conv2 = self.conv2(output_bock1)\n",
    "        output_fc = self.fc(output_conv2)\n",
    "        \n",
    "        output = nn.Sigmoid(x)\n",
    "        return output"
   ]
  },
  {
   "cell_type": "markdown",
   "metadata": {},
   "source": [
    "### MLP"
   ]
  },
  {
   "cell_type": "code",
   "execution_count": 17,
   "metadata": {},
   "outputs": [],
   "source": [
    "#Multilayer perceptron neural network technique for fraud detection\n",
    "#2 layers\n",
    "class MLPNN(nn.Module):\n",
    "    def __init__(self, input_dim):\n",
    "        super(MLPNN,self).__init__()\n",
    "        self.layer1=nn.Linear(input_dim, 718) \n",
    "        self.layer2=nn.Linear(718, 1)\n",
    "    \n",
    "    def forward(self, x):\n",
    "        x = self.layer1(x)\n",
    "        output = self.layer2(x)\n",
    "        output = torch.sigmoid(output)\n",
    "        return output\n",
    "        "
   ]
  },
  {
   "cell_type": "code",
   "execution_count": null,
   "metadata": {},
   "outputs": [],
   "source": [
    "### my model"
   ]
  },
  {
   "cell_type": "code",
   "execution_count": 19,
   "metadata": {},
   "outputs": [],
   "source": [
    "# nn: Linear(fully-connected layer)- 2D\n",
    "# Function: unsequeeze(2D->3D, last D for expanding) \n",
    "# nn: LSTM\n",
    "# Function: Droupout\n",
    "# nn: Transformer\n",
    "# Function: multi-head attention //  (head = 4)\n",
    "# function: Batch norm\n",
    "\n",
    "\n",
    "class Mymodel(nn.Module):\n",
    "    def __init__(self, input_dim):\n",
    "        # model structure\n",
    "        \n",
    "        super(Mymodel,self).__init__()\n",
    "        self.layer1=nn.Linear(input_dim, 512)\n",
    "        self.layer2=nn.LSTM(512,512,2,dropout=0.5)\n",
    "        self.layer3=nn.TransformerEncoderLayer(d_model=512, nhead=4)\n",
    "        self.layer4=nn.Linear(512,1)\n",
    "    def forward(self,x):\n",
    "        \n",
    "        output1 = self.layer1(x)\n",
    "        output_unsqueeze = torch.unsqueeze(output1,1)\n",
    "        output_LSTM = self.layer2(output_unsqueeze)\n",
    "        output_TF = self.layer3(output_LSTM[0])                      \n",
    "        output = torch.squeeze(output_TF)\n",
    "        output= self.layer4(output)\n",
    "        output=torch.sigmoid(output)\n",
    "        output=output.squeeze(-1)\n",
    "        #logits\n",
    "        return output"
   ]
  },
  {
   "cell_type": "markdown",
   "metadata": {},
   "source": [
    "### Model Training\n",
    "\n"
   ]
  },
  {
   "cell_type": "code",
   "execution_count": 20,
   "metadata": {},
   "outputs": [],
   "source": [
    "def training(data, model, lr, bz, max_epoch):\n",
    "    model.train()\n",
    "    loss_fc = nn.BCELoss()\n",
    "    optimizer = optim.Adam(model.parameters(),lr = lr)\n",
    "    \n",
    "    trainset = utils.data.DataLoader(data[0], batch_size = bz, shuffle = True)\n",
    "    \n",
    "    for epoch in range(max_epoch):\n",
    "        iteration = 0\n",
    "        acc_list = []\n",
    "        loss_list = []\n",
    "        for step, batch in enumerate(trainset):\n",
    "            iteration +=1  \n",
    "            \n",
    "            x, y  = batch\n",
    "            y_pred = model(x)\n",
    "            prediction = torch.where(y_pred > 0.5,torch.ones_like(y_pred), torch.zeros_like(y_pred))\n",
    "            acc = accuracy_score(y.detach().numpy(),prediction.detach().numpy())\n",
    "            loss = loss_fc(y_pred, y)\n",
    "            loss_list.append(loss.detach().numpy())\n",
    "            acc_list.append(acc)\n",
    "            optimizer.zero_grad()\n",
    "            loss.backward()\n",
    "            optimizer.step()\n",
    "            #print('Epoch: ', epoch, 'Iteration: ', iteration, 'Loss: ', loss.item(), 'Accuracy: ', acc)\n",
    "        total_loss = np.array(loss_list).sum()/iteration\n",
    "        total_acc = np.array(acc_list).sum()/iteration\n",
    "        print('Epoch: ',epoch,  'Loss: ', total_loss.item(), 'Accuracy: ', total_acc)\n",
    "        evaluation(data[1],model)\n",
    "    return total_acc, total_loss"
   ]
  },
  {
   "cell_type": "code",
   "execution_count": 23,
   "metadata": {
    "scrolled": true
   },
   "outputs": [
    {
     "name": "stdout",
     "output_type": "stream",
     "text": [
      "Epoch:  0 Loss:  0.013516580103927946 Accuracy:  0.9981421879212726\n",
      "evaluation on the validation set...\n",
      "0.9983146540827504\n",
      "Epoch:  1 Loss:  0.013078496731912135 Accuracy:  0.9982643569695335\n",
      "evaluation on the validation set...\n",
      "0.9983146540827504\n",
      "Epoch:  2 Loss:  0.012991639088671559 Accuracy:  0.9982643569695335\n",
      "evaluation on the validation set...\n",
      "0.9983146540827504\n",
      "Epoch:  3 Loss:  0.012926155680689602 Accuracy:  0.9982643569695335\n",
      "evaluation on the validation set...\n",
      "0.9983146540827504\n"
     ]
    }
   ],
   "source": [
    "my_model = Mymodel(len(X.columns))\n",
    "#bayesian=Bayesian_nn()\n",
    "acc, loss = training(data = dataset, model =my_model, lr = 0.001, max_epoch=4, bz=64 )"
   ]
  },
  {
   "cell_type": "markdown",
   "metadata": {},
   "source": [
    "### Model Evalution"
   ]
  },
  {
   "cell_type": "code",
   "execution_count": 22,
   "metadata": {},
   "outputs": [],
   "source": [
    "def evaluation(data, model):\n",
    "    model.eval()\n",
    "    \n",
    "    x,y = data\n",
    "    y_pred =  model(x)\n",
    "    prediction = torch.where(y_pred > 0.5,torch.ones_like(y_pred), torch.zeros_like(y_pred))\n",
    "    acc = accuracy_score(y.detach().numpy(),prediction.detach().numpy())\n",
    "    print('evaluation on the validation set...')\n",
    "    print(acc)\n",
    "    "
   ]
  },
  {
   "cell_type": "code",
   "execution_count": 24,
   "metadata": {},
   "outputs": [
    {
     "name": "stdout",
     "output_type": "stream",
     "text": [
      "Confusion Matrix:\n",
      "[[47388     0]\n",
      " [   80     0]]\n",
      "Recall: 0.0\n"
     ]
    }
   ],
   "source": [
    "my_model.eval()\n",
    "x,y = valid\n",
    "y_pred = my_model(x)\n",
    "prediction = torch.where(y_pred > 0.5,torch.ones_like(y_pred), torch.zeros_like(y_pred))\n",
    "conf_matrix = confusion_matrix(y.detach().numpy(), prediction.detach().numpy())\n",
    "# Extract values from confusion matrix\n",
    "true_positives = conf_matrix[1, 1]\n",
    "false_negatives = conf_matrix[1, 0]\n",
    "\n",
    "# Calculate recall\n",
    "recall = true_positives / (true_positives + false_negatives)\n",
    "\n",
    "print(\"Confusion Matrix:\")\n",
    "print(conf_matrix)\n",
    "print(\"Recall:\", recall)"
   ]
  },
  {
   "cell_type": "code",
   "execution_count": null,
   "metadata": {},
   "outputs": [],
   "source": []
  }
 ],
 "metadata": {
  "kernelspec": {
   "display_name": "Python 3 (ipykernel)",
   "language": "python",
   "name": "python3"
  },
  "language_info": {
   "codemirror_mode": {
    "name": "ipython",
    "version": 3
   },
   "file_extension": ".py",
   "mimetype": "text/x-python",
   "name": "python",
   "nbconvert_exporter": "python",
   "pygments_lexer": "ipython3",
   "version": "3.11.5"
  }
 },
 "nbformat": 4,
 "nbformat_minor": 4
}
